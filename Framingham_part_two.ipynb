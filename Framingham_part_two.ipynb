{
 "cells": [
  {
   "cell_type": "code",
   "execution_count": 17,
   "metadata": {},
   "outputs": [],
   "source": [
    "import pandas as pd\n",
    "import numpy as np\n",
    "import matplotlib.pyplot as plt\n",
    "import scipy.stats as stat\n",
    "import math"
   ]
  },
  {
   "cell_type": "code",
   "execution_count": 49,
   "metadata": {},
   "outputs": [
    {
     "data": {
      "text/html": [
       "<div>\n",
       "<style scoped>\n",
       "    .dataframe tbody tr th:only-of-type {\n",
       "        vertical-align: middle;\n",
       "    }\n",
       "\n",
       "    .dataframe tbody tr th {\n",
       "        vertical-align: top;\n",
       "    }\n",
       "\n",
       "    .dataframe thead th {\n",
       "        text-align: right;\n",
       "    }\n",
       "</style>\n",
       "<table border=\"1\" class=\"dataframe\">\n",
       "  <thead>\n",
       "    <tr style=\"text-align: right;\">\n",
       "      <th></th>\n",
       "      <th>sex</th>\n",
       "      <th>sbp</th>\n",
       "      <th>dbp</th>\n",
       "      <th>scl</th>\n",
       "      <th>chdfate</th>\n",
       "      <th>followup</th>\n",
       "      <th>age</th>\n",
       "      <th>bmi</th>\n",
       "      <th>month</th>\n",
       "      <th>id</th>\n",
       "    </tr>\n",
       "  </thead>\n",
       "  <tbody>\n",
       "    <tr>\n",
       "      <th>0</th>\n",
       "      <td>1</td>\n",
       "      <td>120</td>\n",
       "      <td>80</td>\n",
       "      <td>267.0</td>\n",
       "      <td>1</td>\n",
       "      <td>18</td>\n",
       "      <td>55</td>\n",
       "      <td>25.000000</td>\n",
       "      <td>8</td>\n",
       "      <td>2642</td>\n",
       "    </tr>\n",
       "    <tr>\n",
       "      <th>1</th>\n",
       "      <td>1</td>\n",
       "      <td>130</td>\n",
       "      <td>78</td>\n",
       "      <td>192.0</td>\n",
       "      <td>1</td>\n",
       "      <td>35</td>\n",
       "      <td>53</td>\n",
       "      <td>28.400000</td>\n",
       "      <td>12</td>\n",
       "      <td>4627</td>\n",
       "    </tr>\n",
       "    <tr>\n",
       "      <th>2</th>\n",
       "      <td>1</td>\n",
       "      <td>144</td>\n",
       "      <td>90</td>\n",
       "      <td>207.0</td>\n",
       "      <td>1</td>\n",
       "      <td>109</td>\n",
       "      <td>61</td>\n",
       "      <td>25.100000</td>\n",
       "      <td>8</td>\n",
       "      <td>2568</td>\n",
       "    </tr>\n",
       "    <tr>\n",
       "      <th>3</th>\n",
       "      <td>1</td>\n",
       "      <td>92</td>\n",
       "      <td>66</td>\n",
       "      <td>231.0</td>\n",
       "      <td>1</td>\n",
       "      <td>147</td>\n",
       "      <td>48</td>\n",
       "      <td>26.200001</td>\n",
       "      <td>11</td>\n",
       "      <td>4192</td>\n",
       "    </tr>\n",
       "    <tr>\n",
       "      <th>4</th>\n",
       "      <td>1</td>\n",
       "      <td>162</td>\n",
       "      <td>98</td>\n",
       "      <td>271.0</td>\n",
       "      <td>1</td>\n",
       "      <td>169</td>\n",
       "      <td>39</td>\n",
       "      <td>28.400000</td>\n",
       "      <td>11</td>\n",
       "      <td>3977</td>\n",
       "    </tr>\n",
       "  </tbody>\n",
       "</table>\n",
       "</div>"
      ],
      "text/plain": [
       "   sex  sbp  dbp    scl  chdfate  followup  age        bmi  month    id\n",
       "0    1  120   80  267.0        1        18   55  25.000000      8  2642\n",
       "1    1  130   78  192.0        1        35   53  28.400000     12  4627\n",
       "2    1  144   90  207.0        1       109   61  25.100000      8  2568\n",
       "3    1   92   66  231.0        1       147   48  26.200001     11  4192\n",
       "4    1  162   98  271.0        1       169   39  28.400000     11  3977"
      ]
     },
     "execution_count": 49,
     "metadata": {},
     "output_type": "execute_result"
    }
   ],
   "source": [
    "FHS_data = pd.read_excel('Framingham_data.xlsx')\n",
    "FHS_data.head()"
   ]
  },
  {
   "cell_type": "code",
   "execution_count": 106,
   "metadata": {},
   "outputs": [],
   "source": [
    "def mean_confidence_interval(data, confidence=0.95):\n",
    "    n = data.size\n",
    "    print(f'Data size (n): {n}')\n",
    "    mean = data.mean()\n",
    "    print(f'Mean: {mean}')\n",
    "    # Standard error calculated via sigma / sqrt(n)\n",
    "    std_error = data.std() / math.sqrt(n)\n",
    "#     print(data.sem())\n",
    "    print(f'Standard error of the mean: {std_error}')\n",
    "    t_score = stat.t.ppf(((1 + confidence) / 2), df=(n-1))\n",
    "#     print(stat.norm.ppf(.975))\n",
    "    print(f't-score: {t_score}')\n",
    "    lower = mean - (std_error * t_score)\n",
    "    upper = mean + (std_error * t_score)\n",
    "    return lower, mean, upper"
   ]
  },
  {
   "cell_type": "code",
   "execution_count": 108,
   "metadata": {},
   "outputs": [
    {
     "ename": "SyntaxError",
     "evalue": "unexpected EOF while parsing (<ipython-input-108-af12094b96dc>, line 1)",
     "output_type": "error",
     "traceback": [
      "\u001b[1;36m  File \u001b[1;32m\"<ipython-input-108-af12094b96dc>\"\u001b[1;36m, line \u001b[1;32m1\u001b[0m\n\u001b[1;33m    def proportion_confidence_interval(data, confidence=0.95):\u001b[0m\n\u001b[1;37m                                                              ^\u001b[0m\n\u001b[1;31mSyntaxError\u001b[0m\u001b[1;31m:\u001b[0m unexpected EOF while parsing\n"
     ]
    }
   ],
   "source": [
    "def proportion_confidence_interval(data, confidence=0.95):"
   ]
  },
  {
   "cell_type": "code",
   "execution_count": 109,
   "metadata": {},
   "outputs": [
    {
     "ename": "SyntaxError",
     "evalue": "unexpected EOF while parsing (<ipython-input-109-c456c83887c3>, line 1)",
     "output_type": "error",
     "traceback": [
      "\u001b[1;36m  File \u001b[1;32m\"<ipython-input-109-c456c83887c3>\"\u001b[1;36m, line \u001b[1;32m1\u001b[0m\n\u001b[1;33m    def mean_hypothesis_test():\u001b[0m\n\u001b[1;37m                               ^\u001b[0m\n\u001b[1;31mSyntaxError\u001b[0m\u001b[1;31m:\u001b[0m unexpected EOF while parsing\n"
     ]
    }
   ],
   "source": [
    "def mean_hypothesis_test():"
   ]
  },
  {
   "cell_type": "code",
   "execution_count": 110,
   "metadata": {},
   "outputs": [
    {
     "ename": "SyntaxError",
     "evalue": "unexpected EOF while parsing (<ipython-input-110-035b2877abd7>, line 1)",
     "output_type": "error",
     "traceback": [
      "\u001b[1;36m  File \u001b[1;32m\"<ipython-input-110-035b2877abd7>\"\u001b[1;36m, line \u001b[1;32m1\u001b[0m\n\u001b[1;33m    def proportion_hypothesis_test():\u001b[0m\n\u001b[1;37m                                     ^\u001b[0m\n\u001b[1;31mSyntaxError\u001b[0m\u001b[1;31m:\u001b[0m unexpected EOF while parsing\n"
     ]
    }
   ],
   "source": [
    "def proportion_hypothesis_test():"
   ]
  },
  {
   "cell_type": "markdown",
   "metadata": {},
   "source": [
    "## Problem 1"
   ]
  },
  {
   "cell_type": "markdown",
   "metadata": {},
   "source": [
    "### Part A"
   ]
  },
  {
   "cell_type": "markdown",
   "metadata": {},
   "source": [
    "### Part B"
   ]
  },
  {
   "cell_type": "markdown",
   "metadata": {},
   "source": [
    "## Problem 2"
   ]
  },
  {
   "cell_type": "markdown",
   "metadata": {},
   "source": [
    "### Part A"
   ]
  },
  {
   "cell_type": "code",
   "execution_count": 111,
   "metadata": {},
   "outputs": [
    {
     "name": "stdout",
     "output_type": "stream",
     "text": [
      "Data size (n): 3226\n",
      "Mean: 81.03099814011159\n",
      "Standard error of the mean: 0.21531560267883296\n",
      "t-score: 1.960699843972443\n",
      "\n",
      "We are 95% confident that the population mean of diastolic blood pressure (dbp) for individuals NOT diagnosed with CHD\n",
      "falls within the interval of 80.61 mmHg to 81.45 mmHg.\n"
     ]
    }
   ],
   "source": [
    "DBP_no_CHD = FHS_data.where(FHS_data['chdfate'] == 0)['dbp'].dropna()\n",
    "interval_DBP_no_CHD = mean_confidence_interval(data=DBP_no_CHD)\n",
    "print(f'\\nWe are 95% confident that the population mean of diastolic blood pressure (dbp) for individuals NOT diagnosed with CHD')\n",
    "print(f'falls within the interval of {interval_DBP_no_CHD[0]:.2f} mmHg to {interval_DBP_no_CHD[-1]:.2f} mmHg.')"
   ]
  },
  {
   "cell_type": "code",
   "execution_count": 112,
   "metadata": {},
   "outputs": [
    {
     "name": "stdout",
     "output_type": "stream",
     "text": [
      "Data size (n): 1473\n",
      "Mean: 85.8499660556687\n",
      "Standard error of the mean: 0.34386798326133367\n",
      "t-score: 1.9615768852660422\n",
      "\n",
      "We are 95% confident that the population mean of diastolic blood pressure (dbp) for individuals diagnosed with CHD\n",
      "falls within the interval of 85.18 mmHg to 86.52 mmHg.\n"
     ]
    }
   ],
   "source": [
    "DBP_has_CHD = FHS_data.where(FHS_data['chdfate'] == 1)['dbp'].dropna()\n",
    "interval_DBP_CHD = mean_confidence_interval(data=DBP_has_CHD)\n",
    "print(f'\\nWe are 95% confident that the population mean of diastolic blood pressure (dbp) for individuals diagnosed with CHD')\n",
    "print(f'falls within the interval of {interval_DBP_CHD[0]:.2f} mmHg to {interval_DBP_CHD[-1]:.2f} mmHg.')"
   ]
  },
  {
   "cell_type": "markdown",
   "metadata": {},
   "source": [
    "### Part B"
   ]
  },
  {
   "cell_type": "markdown",
   "metadata": {},
   "source": [
    "## Problem 3"
   ]
  },
  {
   "cell_type": "markdown",
   "metadata": {},
   "source": [
    "### Part A"
   ]
  },
  {
   "cell_type": "markdown",
   "metadata": {},
   "source": [
    "### Part B"
   ]
  },
  {
   "cell_type": "code",
   "execution_count": null,
   "metadata": {},
   "outputs": [],
   "source": []
  }
 ],
 "metadata": {
  "kernelspec": {
   "display_name": "Python 3",
   "language": "python",
   "name": "python3"
  },
  "language_info": {
   "codemirror_mode": {
    "name": "ipython",
    "version": 3
   },
   "file_extension": ".py",
   "mimetype": "text/x-python",
   "name": "python",
   "nbconvert_exporter": "python",
   "pygments_lexer": "ipython3",
   "version": "3.7.3"
  }
 },
 "nbformat": 4,
 "nbformat_minor": 4
}
