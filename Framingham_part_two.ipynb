{
 "cells": [
  {
   "cell_type": "code",
   "execution_count": 17,
   "metadata": {},
   "outputs": [],
   "source": [
    "import pandas as pd\n",
    "import numpy as np\n",
    "import matplotlib.pyplot as plt\n",
    "import scipy.stats as stat\n",
    "import math"
   ]
  },
  {
   "cell_type": "code",
   "execution_count": 333,
   "metadata": {},
   "outputs": [
    {
     "data": {
      "text/plain": [
       "4699"
      ]
     },
     "execution_count": 333,
     "metadata": {},
     "output_type": "execute_result"
    }
   ],
   "source": [
    "FHS_data = pd.read_excel('Framingham_data.xlsx')\n",
    "FHS_data.head()\n",
    "len(FHS_data.index)"
   ]
  },
  {
   "cell_type": "code",
   "execution_count": 344,
   "metadata": {},
   "outputs": [],
   "source": [
    "def proportion_confidence_interval(col: str, CHD: int, gender: int, confidence=0.95):\n",
    "    data = pd.DataFrame(columns=[col, 'chdfate'])\n",
    "    data[[col, 'chdfate']] = FHS_data[[col, 'chdfate']].where(FHS_data['chdfate'] == CHD).dropna()\n",
    "    filtered_data = data.where(data['sex'] == gender)[col].dropna()\n",
    "    \n",
    "    n = len(FHS_data['sex'])\n",
    "    print(f'Total recorded datapoints for {col} (n): {n}')\n",
    "    proportion = len(filtered_data.index) / n\n",
    "    q = 1 - proportion\n",
    "    print(f'p = {proportion}, q = {q}')\n",
    "    # Standard error calculated via sigma / sqrt(n)\n",
    "    std_dev = np.sqrt((proportion * q) / n)\n",
    "#     print(data.sem())\n",
    "    print(f'Standard deviation of proportion: {std_dev}')\n",
    "    z_score = stat.norm.ppf(((1 + confidence) / 2))\n",
    "#     print(stat.norm.ppf(.975))\n",
    "    print(f'z-score: {z_score}')\n",
    "    lower = proportion - (std_dev * z_score)\n",
    "    upper = proportion + (std_dev * z_score)\n",
    "    return lower, proportion, upper"
   ]
  },
  {
   "cell_type": "code",
   "execution_count": 345,
   "metadata": {},
   "outputs": [],
   "source": [
    "def mean_confidence_interval(col: str, CHD: int, confidence=0.95):\n",
    "    data = pd.DataFrame(columns=[col, 'chdfate'])\n",
    "    data[[col, 'chdfate']] = FHS_data[[col, 'chdfate']]\n",
    "    filtered_data = data.where(data['chdfate'] == CHD)[col].dropna()\n",
    "    \n",
    "    n = len(data.index)\n",
    "    print(f'Total recorded datapoints for {col} (n): {n}')\n",
    "    mean = filtered_data.mean()\n",
    "    print(f'Mean: {mean}')\n",
    "    # Standard error calculated via sigma / sqrt(n)\n",
    "    std_error = filtered_data.std() / np.sqrt(n)\n",
    "#     print(data.sem())\n",
    "    print(f'Standard error of the mean: {std_error}')\n",
    "    t_score = stat.t.ppf(((1 + confidence) / 2), df=(n-1))\n",
    "#     print(stat.norm.ppf(.975))\n",
    "    print(f't-score: {t_score}')\n",
    "    lower = mean - (std_error * t_score)\n",
    "    upper = mean + (std_error * t_score)\n",
    "    return lower, mean, upper"
   ]
  },
  {
   "cell_type": "code",
   "execution_count": 346,
   "metadata": {},
   "outputs": [
    {
     "ename": "SyntaxError",
     "evalue": "unexpected EOF while parsing (<ipython-input-346-c456c83887c3>, line 1)",
     "output_type": "error",
     "traceback": [
      "\u001b[1;36m  File \u001b[1;32m\"<ipython-input-346-c456c83887c3>\"\u001b[1;36m, line \u001b[1;32m1\u001b[0m\n\u001b[1;33m    def mean_hypothesis_test():\u001b[0m\n\u001b[1;37m                               ^\u001b[0m\n\u001b[1;31mSyntaxError\u001b[0m\u001b[1;31m:\u001b[0m unexpected EOF while parsing\n"
     ]
    }
   ],
   "source": [
    "def mean_hypothesis_test():"
   ]
  },
  {
   "cell_type": "code",
   "execution_count": 347,
   "metadata": {},
   "outputs": [
    {
     "ename": "SyntaxError",
     "evalue": "unexpected EOF while parsing (<ipython-input-347-035b2877abd7>, line 1)",
     "output_type": "error",
     "traceback": [
      "\u001b[1;36m  File \u001b[1;32m\"<ipython-input-347-035b2877abd7>\"\u001b[1;36m, line \u001b[1;32m1\u001b[0m\n\u001b[1;33m    def proportion_hypothesis_test():\u001b[0m\n\u001b[1;37m                                     ^\u001b[0m\n\u001b[1;31mSyntaxError\u001b[0m\u001b[1;31m:\u001b[0m unexpected EOF while parsing\n"
     ]
    }
   ],
   "source": [
    "def proportion_hypothesis_test():"
   ]
  },
  {
   "cell_type": "markdown",
   "metadata": {},
   "source": [
    "## Problem 1"
   ]
  },
  {
   "cell_type": "markdown",
   "metadata": {},
   "source": [
    "### Part A"
   ]
  },
  {
   "cell_type": "code",
   "execution_count": 349,
   "metadata": {},
   "outputs": [
    {
     "name": "stdout",
     "output_type": "stream",
     "text": [
      "Total recorded datapoints for sex (n): 4699\n",
      "p = 0.1383273036816344, q = 0.8616726963183656\n",
      "Standard deviation of proportion: 0.005036425326323434\n",
      "z-score: 1.959963984540054\n",
      "\n",
      "We are 95% confident that the population proportion (proportion of US population) of women diagosed with CHD\n",
      "falls within the interval of 0.1285 to 0.1482.\n"
     ]
    }
   ],
   "source": [
    "interval_women_has_CHD = proportion_confidence_interval(col='sex', CHD=1, gender=2)\n",
    "print(f'\\nWe are 95% confident that the population proportion (proportion of US population) of women diagosed with CHD')\n",
    "print(f'falls within the interval of {interval_women_has_CHD[0]:.4f} to {interval_women_has_CHD[-1]:.4f}.')"
   ]
  },
  {
   "cell_type": "code",
   "execution_count": 350,
   "metadata": {},
   "outputs": [
    {
     "name": "stdout",
     "output_type": "stream",
     "text": [
      "Total recorded datapoints for sex (n): 4699\n",
      "p = 0.17514364758459247, q = 0.8248563524154076\n",
      "Standard deviation of proportion: 0.005544771253336928\n",
      "z-score: 1.959963984540054\n",
      "\n",
      "We are 95% confident that the population proportion (proportion of US population) of men diagosed with CHD\n",
      "falls within the interval of 0.1643 to 0.1860.\n"
     ]
    }
   ],
   "source": [
    "interval_men_has_CHD = proportion_confidence_interval(col='sex', CHD=1, gender=1)\n",
    "print(f'\\nWe are 95% confident that the population proportion (proportion of US potppulation) of men diagosed with CHD')\n",
    "print(f'falls within the interval of {interval_men_has_CHD[0]:.4f} to {interval_men_has_CHD[-1]:.4f}.')"
   ]
  },
  {
   "cell_type": "markdown",
   "metadata": {},
   "source": [
    "### Part B"
   ]
  },
  {
   "cell_type": "markdown",
   "metadata": {},
   "source": [
    "## Problem 2"
   ]
  },
  {
   "cell_type": "code",
   "execution_count": 175,
   "metadata": {},
   "outputs": [],
   "source": [
    "# Isolate the two variables we want (DBP and CHD)\n",
    "DBP_CHD_data = pd.DataFrame(FHS_data[['dbp', 'chdfate']])"
   ]
  },
  {
   "cell_type": "markdown",
   "metadata": {},
   "source": [
    "### Part A"
   ]
  },
  {
   "cell_type": "code",
   "execution_count": 273,
   "metadata": {},
   "outputs": [
    {
     "name": "stdout",
     "output_type": "stream",
     "text": [
      "Total recorded datapoints for dbp (n): 4699\n",
      "Mean: 81.03099814011159\n",
      "Standard error of the mean: 0.17840415335534265\n",
      "t-score: 1.9604690658796426\n",
      "\n",
      "We are 95% confident that the population mean of diastolic blood pressure (dbp) for individuals NOT diagnosed with CHD\n",
      "falls within the interval of 80.68 mmHg to 81.38 mmHg.\n"
     ]
    }
   ],
   "source": [
    "interval_DBP_no_CHD = mean_confidence_interval(col='dbp', CHD=0)\n",
    "print(f'\\nWe are 95% confident that the population mean of diastolic blood pressure (dbp) for individuals NOT diagnosed with CHD')\n",
    "print(f'falls within the interval of {interval_DBP_no_CHD[0]:.2f} mmHg to {interval_DBP_no_CHD[-1]:.2f} mmHg.')"
   ]
  },
  {
   "cell_type": "code",
   "execution_count": 274,
   "metadata": {},
   "outputs": [
    {
     "name": "stdout",
     "output_type": "stream",
     "text": [
      "Total recorded datapoints for dbp (n): 4699\n",
      "Mean: 85.8499660556687\n",
      "Standard error of the mean: 0.19252644536384675\n",
      "t-score: 1.9604690658796426\n",
      "\n",
      "We are 95% confident that the population mean of diastolic blood pressure (dbp) for individuals diagnosed with CHD\n",
      "falls within the interval of 85.47 mmHg to 86.23 mmHg.\n"
     ]
    }
   ],
   "source": [
    "interval_DBP_CHD = mean_confidence_interval(col='dbp', CHD=1)\n",
    "print(f'\\nWe are 95% confident that the population mean of diastolic blood pressure (dbp) for individuals diagnosed with CHD')\n",
    "print(f'falls within the interval of {interval_DBP_CHD[0]:.2f} mmHg to {interval_DBP_CHD[-1]:.2f} mmHg.')"
   ]
  },
  {
   "cell_type": "markdown",
   "metadata": {},
   "source": [
    "### Part B"
   ]
  },
  {
   "cell_type": "markdown",
   "metadata": {},
   "source": [
    "## Problem 3"
   ]
  },
  {
   "cell_type": "markdown",
   "metadata": {},
   "source": [
    "### Part A"
   ]
  },
  {
   "cell_type": "code",
   "execution_count": 277,
   "metadata": {},
   "outputs": [
    {
     "name": "stdout",
     "output_type": "stream",
     "text": [
      "Total recorded datapoints for scl (n): 4699\n",
      "Mean: 223.0009375\n",
      "Standard error of the mean: 0.618649016831971\n",
      "t-score: 1.9604690658796426\n",
      "\n",
      "We are 95% confident that the population mean of systolic blood pressure (scl) for individuals NOT diagnosed with CHD\n",
      "falls within the interval of 221.79 mmHg to 224.21 mmHg.\n"
     ]
    }
   ],
   "source": [
    "interval_SCL_no_CHD = mean_confidence_interval(col='scl', CHD=0)\n",
    "print(f'\\nWe are 95% confident that the population mean of systolic blood pressure (scl) for individuals NOT diagnosed with CHD')\n",
    "print(f'falls within the interval of {interval_SCL_no_CHD[0]:.2f} mmHg to {interval_SCL_no_CHD[-1]:.2f} mmHg.')"
   ]
  },
  {
   "cell_type": "markdown",
   "metadata": {},
   "source": [
    "### Part B"
   ]
  },
  {
   "cell_type": "code",
   "execution_count": 278,
   "metadata": {},
   "outputs": [
    {
     "name": "stdout",
     "output_type": "stream",
     "text": [
      "Total recorded datapoints for scl (n): 4699\n",
      "Mean: 239.8431105047749\n",
      "Standard error of the mean: 0.6836238714998996\n",
      "t-score: 1.9604690658796426\n",
      "\n",
      "We are 95% confident that the population mean of systolic blood pressure (scl) for individuals NOT diagnosed with CHD\n",
      "falls within the interval of 238.50 mmHg to 241.18 mmHg.\n"
     ]
    }
   ],
   "source": [
    "interval_SCL_has_CHD = mean_confidence_interval(col='scl', CHD=1)\n",
    "print(f'\\nWe are 95% confident that the population mean of systolic blood pressure (scl) for individuals NOT diagnosed with CHD')\n",
    "print(f'falls within the interval of {interval_SCL_has_CHD[0]:.2f} mmHg to {interval_SCL_has_CHD[-1]:.2f} mmHg.')"
   ]
  },
  {
   "cell_type": "code",
   "execution_count": null,
   "metadata": {},
   "outputs": [],
   "source": []
  }
 ],
 "metadata": {
  "kernelspec": {
   "display_name": "Python 3",
   "language": "python",
   "name": "python3"
  },
  "language_info": {
   "codemirror_mode": {
    "name": "ipython",
    "version": 3
   },
   "file_extension": ".py",
   "mimetype": "text/x-python",
   "name": "python",
   "nbconvert_exporter": "python",
   "pygments_lexer": "ipython3",
   "version": "3.7.3"
  }
 },
 "nbformat": 4,
 "nbformat_minor": 4
}
