{
 "cells": [
  {
   "cell_type": "code",
   "execution_count": 17,
   "metadata": {},
   "outputs": [],
   "source": [
    "import pandas as pd\n",
    "import numpy as np\n",
    "import matplotlib.pyplot as plt\n",
    "import scipy.stats as stat\n",
    "import math"
   ]
  },
  {
   "cell_type": "code",
   "execution_count": 18,
   "metadata": {},
   "outputs": [
    {
     "data": {
      "text/html": [
       "<div>\n",
       "<style scoped>\n",
       "    .dataframe tbody tr th:only-of-type {\n",
       "        vertical-align: middle;\n",
       "    }\n",
       "\n",
       "    .dataframe tbody tr th {\n",
       "        vertical-align: top;\n",
       "    }\n",
       "\n",
       "    .dataframe thead th {\n",
       "        text-align: right;\n",
       "    }\n",
       "</style>\n",
       "<table border=\"1\" class=\"dataframe\">\n",
       "  <thead>\n",
       "    <tr style=\"text-align: right;\">\n",
       "      <th></th>\n",
       "      <th>sex</th>\n",
       "      <th>sbp</th>\n",
       "      <th>dbp</th>\n",
       "      <th>scl</th>\n",
       "      <th>chdfate</th>\n",
       "      <th>followup</th>\n",
       "      <th>age</th>\n",
       "      <th>bmi</th>\n",
       "      <th>month</th>\n",
       "      <th>id</th>\n",
       "    </tr>\n",
       "  </thead>\n",
       "  <tbody>\n",
       "    <tr>\n",
       "      <th>0</th>\n",
       "      <td>1</td>\n",
       "      <td>120</td>\n",
       "      <td>80</td>\n",
       "      <td>267.0</td>\n",
       "      <td>1</td>\n",
       "      <td>18</td>\n",
       "      <td>55</td>\n",
       "      <td>25.000000</td>\n",
       "      <td>8</td>\n",
       "      <td>2642</td>\n",
       "    </tr>\n",
       "    <tr>\n",
       "      <th>1</th>\n",
       "      <td>1</td>\n",
       "      <td>130</td>\n",
       "      <td>78</td>\n",
       "      <td>192.0</td>\n",
       "      <td>1</td>\n",
       "      <td>35</td>\n",
       "      <td>53</td>\n",
       "      <td>28.400000</td>\n",
       "      <td>12</td>\n",
       "      <td>4627</td>\n",
       "    </tr>\n",
       "    <tr>\n",
       "      <th>2</th>\n",
       "      <td>1</td>\n",
       "      <td>144</td>\n",
       "      <td>90</td>\n",
       "      <td>207.0</td>\n",
       "      <td>1</td>\n",
       "      <td>109</td>\n",
       "      <td>61</td>\n",
       "      <td>25.100000</td>\n",
       "      <td>8</td>\n",
       "      <td>2568</td>\n",
       "    </tr>\n",
       "    <tr>\n",
       "      <th>3</th>\n",
       "      <td>1</td>\n",
       "      <td>92</td>\n",
       "      <td>66</td>\n",
       "      <td>231.0</td>\n",
       "      <td>1</td>\n",
       "      <td>147</td>\n",
       "      <td>48</td>\n",
       "      <td>26.200001</td>\n",
       "      <td>11</td>\n",
       "      <td>4192</td>\n",
       "    </tr>\n",
       "    <tr>\n",
       "      <th>4</th>\n",
       "      <td>1</td>\n",
       "      <td>162</td>\n",
       "      <td>98</td>\n",
       "      <td>271.0</td>\n",
       "      <td>1</td>\n",
       "      <td>169</td>\n",
       "      <td>39</td>\n",
       "      <td>28.400000</td>\n",
       "      <td>11</td>\n",
       "      <td>3977</td>\n",
       "    </tr>\n",
       "  </tbody>\n",
       "</table>\n",
       "</div>"
      ],
      "text/plain": [
       "   sex  sbp  dbp    scl  chdfate  followup  age        bmi  month    id\n",
       "0    1  120   80  267.0        1        18   55  25.000000      8  2642\n",
       "1    1  130   78  192.0        1        35   53  28.400000     12  4627\n",
       "2    1  144   90  207.0        1       109   61  25.100000      8  2568\n",
       "3    1   92   66  231.0        1       147   48  26.200001     11  4192\n",
       "4    1  162   98  271.0        1       169   39  28.400000     11  3977"
      ]
     },
     "execution_count": 18,
     "metadata": {},
     "output_type": "execute_result"
    }
   ],
   "source": [
    "FHS_data = pd.read_excel('Framingham_data.xlsx')\n",
    "FHS_data.head()"
   ]
  },
  {
   "cell_type": "code",
   "execution_count": 19,
   "metadata": {},
   "outputs": [],
   "source": [
    "def proportion_confidence_interval(col: str, CHD: int, gender: int, confidence=0.95):\n",
    "    data = pd.DataFrame(columns=[col, 'chdfate'])\n",
    "    data[[col, 'chdfate']] = FHS_data[[col, 'chdfate']].where(FHS_data['chdfate'] == CHD).dropna()\n",
    "    filtered_data = data.where(data['sex'] == gender)[col].dropna()\n",
    "    \n",
    "    n = len(FHS_data['sex'].where(FHS_data['sex'] == gender).dropna())\n",
    "    print(f'Total recorded datapoints for {col} = {\"male\" if gender is 1 else \"female\"} (n): {n}')\n",
    "    proportion = len(filtered_data.index) / n\n",
    "    q = 1 - proportion\n",
    "    print(f'p = {proportion}, q = {q}')\n",
    "    # Standard error calculated via sigma / sqrt(n)\n",
    "    std_dev = np.sqrt((proportion * q) / n)\n",
    "#     print(data.sem())\n",
    "    print(f'Standard deviation of proportion: {std_dev}')\n",
    "    z_score = stat.norm.ppf(((1 + confidence) / 2))\n",
    "#     print(stat.norm.ppf(.975))\n",
    "    print(f'z-score: {z_score}')\n",
    "    lower = proportion - (std_dev * z_score)\n",
    "    upper = proportion + (std_dev * z_score)\n",
    "    return lower, proportion, upper"
   ]
  },
  {
   "cell_type": "code",
   "execution_count": 20,
   "metadata": {},
   "outputs": [],
   "source": [
    "def mean_confidence_interval(col: str, CHD: int, confidence=0.95):\n",
    "    data = pd.DataFrame(columns=[col, 'chdfate'])\n",
    "    data[[col, 'chdfate']] = FHS_data[[col, 'chdfate']]\n",
    "    filtered_data = data.where(data['chdfate'] == CHD)[col].dropna()\n",
    "    \n",
    "    n = len(data.index)\n",
    "    print(f'Total recorded datapoints for {col} (n): {n}')\n",
    "    mean = filtered_data.mean()\n",
    "    print(f'Mean: {mean}')\n",
    "    # Standard error calculated via sigma / sqrt(n)\n",
    "    std_error = filtered_data.std() / np.sqrt(n)\n",
    "#     print(data.sem())\n",
    "    print(f'Standard error of the mean: {std_error}')\n",
    "    t_score = stat.t.ppf(((1 + confidence) / 2), df=(n-1))\n",
    "#     print(stat.norm.ppf(.975))\n",
    "    print(f't-score: {t_score}')\n",
    "    lower = mean - (std_error * t_score)\n",
    "    upper = mean + (std_error * t_score)\n",
    "    return lower, mean, upper"
   ]
  },
  {
   "cell_type": "code",
   "execution_count": 21,
   "metadata": {},
   "outputs": [],
   "source": [
    "def proportion_difference_hypothesis_test(col: str, gender_one: int, gender_two: int, alpha=.05, CHD=1):\n",
    "    data = pd.DataFrame(columns=[col, 'chdfate'])\n",
    "    data[[col, 'chdfate']] = FHS_data[[col, 'chdfate']].where(FHS_data['chdfate'] == CHD).dropna()\n",
    "    filtered_data_one = data.where(data['sex'] == gender_one)[col].dropna()\n",
    "    filtered_data_two = data.where(data['sex'] == gender_two)[col].dropna()\n",
    "    \n",
    "    n_one = len(FHS_data['sex'].where(FHS_data['sex'] == gender_one).dropna())\n",
    "    n_two = len(FHS_data['sex'].where(FHS_data['sex'] == gender_two).dropna())\n",
    "    print(f'Total recorded datapoints for {col} = {\"male\" if gender_one is 1 else \"female\"} (n_one): {n_one}')\n",
    "    print(f'Total recorded datapoints for {col} = {\"male\" if gender_two is 1 else \"female\"} (n_two): {n_two}')\n",
    "    p_one = len(filtered_data_one.index) / n_one\n",
    "    p_two = len(filtered_data_two.index) / n_two\n",
    "    print(f'p1 = {p_one}, (1 - p1) = {1 - p_one}')\n",
    "    print(f'p2 = {p_two}, (1 - p2) = {1 - p_two}')\n",
    "    p_hat = ((n_one * p_one) + (n_two * p_two)) / (n_one + n_two)\n",
    "    print(f'Combined proportion p-hat: {p_hat}')\n",
    "#     print(p_one - p_two)\n",
    "#     print(np.sqrt((p_hat * (1 - p_hat)) * ((1/n_one) + (1/n_two))))\n",
    "    test_statistic = (p_one - p_two) / np.sqrt((p_hat * (1 - p_hat)) * ((1/n_one) + (1/n_two)))\n",
    "    print(f'Test statistic (Z): {test_statistic}')\n",
    "    # Two-tailed hypothesis test, so multiply the area to the left of our test statistic by two to get total area\n",
    "    p_value = 2 * (1 - stat.norm.cdf(test_statistic))\n",
    "    print(f'p_value: {p_value}')\n",
    "    return p_value"
   ]
  },
  {
   "cell_type": "code",
   "execution_count": 44,
   "metadata": {},
   "outputs": [],
   "source": [
    "def mean_difference_hypothesis_test(col: str, alpha=.05):\n",
    "    data = pd.DataFrame(columns=[col, 'chdfate'])\n",
    "    data[[col, 'chdfate']] = FHS_data[[col, 'chdfate']]\n",
    "    filtered_data_one = data.where(data['chdfate'] == 0)[col].dropna()\n",
    "    filtered_data_two = data.where(data['chdfate'] == 1)[col].dropna()\n",
    "    \n",
    "    n_one = len(filtered_data_one.index)\n",
    "    n_two = len(filtered_data_two.index)\n",
    "    print(f'Total recorded datapoints for {col} (no CHD) (n): {n_one}')\n",
    "    print(f'Total recorded datapoints for {col} (has CHD) (n): {n_two}')\n",
    "    mean_one = filtered_data_one.mean()\n",
    "    mean_two = filtered_data_two.mean()\n",
    "    print(f'Mean_1: {mean_one}')\n",
    "    print(f'Mean_2: {mean_two}')\n",
    "    \n",
    "    var_one = filtered_data_one.var()\n",
    "    var_two = filtered_data_two.var()\n",
    "    print(f'Variance of dbp levels (no CHD): {var_one}')\n",
    "    print(f'Variance of dbp levels (has CHD): {var_two}')\n",
    "    \n",
    "    test_statistic = np.abs(mean_one - mean_two) / np.sqrt((var_one / n_one) + (var_two / n_two))\n",
    "    print(f'Test statistic (T): {test_statistic}')\n",
    "    # Should change to more general formula for degress of freedom\n",
    "    dof = math.floor(math.pow((var_one / n_one) + (var_two / n_two), 2) / ((math.pow((var_one / n_one), 2) / (n_one - 1)) + (math.pow((var_two / n_two), 2) / (n_two - 1))))\n",
    "    print(f'Degrees of Freedom: {dof}')\n",
    "    # Multiply by two to account for two tailed-ness\n",
    "    p_value = 2 * (1 - stat.t.cdf(test_statistic, df=dof))\n",
    "    print(f'P-value: {p_value}')\n",
    "    return p_value"
   ]
  },
  {
   "cell_type": "code",
   "execution_count": 23,
   "metadata": {},
   "outputs": [],
   "source": [
    "def evaluate_p_value(p_value):\n",
    "    if(p_value >= .05):\n",
    "        print(f'P-value of {p_value} is greater than 0.05. There is insignificant evidence to support the alternative hypothesis')\n",
    "    else:\n",
    "        print(f'P-value of {p_value} is less than 0.05. We reject the null hypothesis.')"
   ]
  },
  {
   "cell_type": "markdown",
   "metadata": {},
   "source": [
    "## Problem 1"
   ]
  },
  {
   "cell_type": "markdown",
   "metadata": {},
   "source": [
    "### Part A"
   ]
  },
  {
   "cell_type": "code",
   "execution_count": 24,
   "metadata": {},
   "outputs": [
    {
     "name": "stdout",
     "output_type": "stream",
     "text": [
      "Calculating interval for true US population proportion of women who develop CHD\n",
      "Total recorded datapoints for sex = female (n): 2650\n",
      "p = 0.24528301886792453, q = 0.7547169811320755\n",
      "Standard deviation of proportion: 0.008358009592497936\n",
      "z-score: 1.959963984540054\n",
      "\n",
      "We are 95% confident that the population proportion (proportion of US population) of women diagosed with CHD\n",
      "falls within the interval of 0.2289 to 0.2617.\n"
     ]
    }
   ],
   "source": [
    "print(\"Calculating interval for true US population proportion of women who develop CHD\")\n",
    "interval_women_has_CHD = proportion_confidence_interval(col='sex', CHD=1, gender=2)\n",
    "print(f'\\nWe are 95% confident that the population proportion (proportion of US population) of women diagosed with CHD')\n",
    "print(f'falls within the interval of {interval_women_has_CHD[0]:.4f} to {interval_women_has_CHD[-1]:.4f}.')"
   ]
  },
  {
   "cell_type": "code",
   "execution_count": 25,
   "metadata": {},
   "outputs": [
    {
     "name": "stdout",
     "output_type": "stream",
     "text": [
      "Calculating interval for true US population proportion of men who develop CHD\n",
      "Total recorded datapoints for sex = male (n): 2049\n",
      "p = 0.40165934602244996, q = 0.59834065397755\n",
      "Standard deviation of proportion: 0.010830093725364498\n",
      "z-score: 1.959963984540054\n",
      "\n",
      "We are 95% confident that the population proportion (proportion of US potppulation) of men diagosed with CHD\n",
      "falls within the interval of 0.3804 to 0.4229.\n"
     ]
    }
   ],
   "source": [
    "print(\"Calculating interval for true US population proportion of men who develop CHD\")\n",
    "interval_men_has_CHD = proportion_confidence_interval(col='sex', CHD=1, gender=1)\n",
    "print(f'\\nWe are 95% confident that the population proportion (proportion of US potppulation) of men diagosed with CHD')\n",
    "print(f'falls within the interval of {interval_men_has_CHD[0]:.4f} to {interval_men_has_CHD[-1]:.4f}.')"
   ]
  },
  {
   "cell_type": "markdown",
   "metadata": {},
   "source": [
    "### Part B"
   ]
  },
  {
   "cell_type": "markdown",
   "metadata": {},
   "source": [
    "$$H_0: P_m - P_f = 0$$ \n",
    "$$H_A: \\lvert P_m - P_f \\rvert \\gt 0$$"
   ]
  },
  {
   "cell_type": "code",
   "execution_count": 26,
   "metadata": {},
   "outputs": [
    {
     "name": "stdout",
     "output_type": "stream",
     "text": [
      "Null hypothesis: There is no difference between population proportions of men who develop CHD and population proportion of women who develop CHD\n",
      "Alternative hypothesis: There is a significant difference between population proportions of men who develop CHD and women who develop CHD\n",
      "Alpha = .05\n",
      "\n"
     ]
    }
   ],
   "source": [
    "print(\"Null hypothesis: There is no difference between population proportions of men who develop CHD and population proportion of women who develop CHD\")\n",
    "print(\"Alternative hypothesis: There is a significant difference between population proportions of men who develop CHD and women who develop CHD\\nAlpha = .05\\n\")"
   ]
  },
  {
   "cell_type": "code",
   "execution_count": 27,
   "metadata": {},
   "outputs": [
    {
     "name": "stdout",
     "output_type": "stream",
     "text": [
      "Total recorded datapoints for sex = male (n_one): 2049\n",
      "Total recorded datapoints for sex = female (n_two): 2650\n",
      "p1 = 0.40165934602244996, (1 - p1) = 0.59834065397755\n",
      "p2 = 0.24528301886792453, (1 - p2) = 0.7547169811320755\n",
      "Combined proportion p-hat: 0.31347095126622687\n",
      "Test statistic (Z): 11.45866683339946\n",
      "p_value: 0.0\n",
      "P-value of 0.0 is less than 0.05. We reject the null hypothesis.\n"
     ]
    }
   ],
   "source": [
    "p_val_male_female_diff = proportion_difference_hypothesis_test(col='sex', gender_one=1, gender_two=2)\n",
    "evaluate_p_value(p_val_male_female_diff)"
   ]
  },
  {
   "cell_type": "markdown",
   "metadata": {},
   "source": [
    "## Problem 2"
   ]
  },
  {
   "cell_type": "markdown",
   "metadata": {},
   "source": [
    "### Part A"
   ]
  },
  {
   "cell_type": "code",
   "execution_count": 28,
   "metadata": {},
   "outputs": [
    {
     "name": "stdout",
     "output_type": "stream",
     "text": [
      "Total recorded datapoints for dbp (n): 4699\n",
      "Mean: 81.03099814011159\n",
      "Standard error of the mean: 0.17840415335534265\n",
      "t-score: 1.9604690658796426\n",
      "\n",
      "We are 95% confident that the population mean of diastolic blood pressure (dbp) for individuals NOT diagnosed with CHD\n",
      "falls within the interval of 80.68 mmHg to 81.38 mmHg.\n"
     ]
    }
   ],
   "source": [
    "interval_DBP_no_CHD = mean_confidence_interval(col='dbp', CHD=0)\n",
    "print(f'\\nWe are 95% confident that the population mean of diastolic blood pressure (dbp) for individuals NOT diagnosed with CHD')\n",
    "print(f'falls within the interval of {interval_DBP_no_CHD[0]:.2f} mmHg to {interval_DBP_no_CHD[-1]:.2f} mmHg.')"
   ]
  },
  {
   "cell_type": "code",
   "execution_count": 29,
   "metadata": {},
   "outputs": [
    {
     "name": "stdout",
     "output_type": "stream",
     "text": [
      "Total recorded datapoints for dbp (n): 4699\n",
      "Mean: 85.8499660556687\n",
      "Standard error of the mean: 0.19252644536384675\n",
      "t-score: 1.9604690658796426\n",
      "\n",
      "We are 95% confident that the population mean of diastolic blood pressure (dbp) for individuals diagnosed with CHD\n",
      "falls within the interval of 85.47 mmHg to 86.23 mmHg.\n"
     ]
    }
   ],
   "source": [
    "interval_DBP_CHD = mean_confidence_interval(col='dbp', CHD=1)\n",
    "print(f'\\nWe are 95% confident that the population mean of diastolic blood pressure (dbp) for individuals diagnosed with CHD')\n",
    "print(f'falls within the interval of {interval_DBP_CHD[0]:.2f} mmHg to {interval_DBP_CHD[-1]:.2f} mmHg.')"
   ]
  },
  {
   "cell_type": "markdown",
   "metadata": {},
   "source": [
    "### Part B"
   ]
  },
  {
   "cell_type": "markdown",
   "metadata": {},
   "source": [
    "$$H_0: \\mu_1 - \\mu_2 = 0$$\n",
    "$$H_A: \\lvert \\mu_1 - \\mu_2 \\rvert \\gt 0$$"
   ]
  },
  {
   "cell_type": "code",
   "execution_count": 45,
   "metadata": {},
   "outputs": [
    {
     "name": "stdout",
     "output_type": "stream",
     "text": [
      "Total recorded datapoints for dbp (no CHD) (n): 3226\n",
      "Total recorded datapoints for dbp (has CHD) (n): 1473\n",
      "Mean_1: 81.03099814011159\n",
      "Mean_2: 85.8499660556687\n",
      "Variance of dbp levels (no CHD): 149.55996904991767\n",
      "Variance of dbp levels (has CHD): 174.17516474069538\n",
      "Test statistic (T): 11.877668654501761\n",
      "Degrees of Freedom: 2665\n",
      "P-value: 0.0\n",
      "P-value of 0.0 is less than 0.05. We reject the null hypothesis.\n"
     ]
    }
   ],
   "source": [
    "p_val_dbp_diff = mean_difference_hypothesis_test(col='dbp')\n",
    "evaluate_p_value(p_val_dbp_diff)"
   ]
  },
  {
   "cell_type": "markdown",
   "metadata": {},
   "source": [
    "## Problem 3"
   ]
  },
  {
   "cell_type": "markdown",
   "metadata": {},
   "source": [
    "### Part A"
   ]
  },
  {
   "cell_type": "code",
   "execution_count": 31,
   "metadata": {},
   "outputs": [
    {
     "name": "stdout",
     "output_type": "stream",
     "text": [
      "Total recorded datapoints for scl (n): 4699\n",
      "Mean: 223.0009375\n",
      "Standard error of the mean: 0.618649016831971\n",
      "t-score: 1.9604690658796426\n",
      "\n",
      "We are 95% confident that the population mean of systolic blood pressure (scl) for individuals NOT diagnosed with CHD\n",
      "falls within the interval of 221.79 mmHg to 224.21 mmHg.\n"
     ]
    }
   ],
   "source": [
    "interval_SCL_no_CHD = mean_confidence_interval(col='scl', CHD=0)\n",
    "print(f'\\nWe are 95% confident that the population mean of systolic blood pressure (scl) for individuals NOT diagnosed with CHD')\n",
    "print(f'falls within the interval of {interval_SCL_no_CHD[0]:.2f} mmHg to {interval_SCL_no_CHD[-1]:.2f} mmHg.')"
   ]
  },
  {
   "cell_type": "code",
   "execution_count": 36,
   "metadata": {},
   "outputs": [
    {
     "name": "stdout",
     "output_type": "stream",
     "text": [
      "Total recorded datapoints for scl (n): 4699\n",
      "Mean: 239.8431105047749\n",
      "Standard error of the mean: 0.6836238714998996\n",
      "t-score: 1.9604690658796426\n",
      "\n",
      "We are 95% confident that the population mean of systolic blood pressure (scl) for individuals NOT diagnosed with CHD\n",
      "falls within the interval of 238.50 mmHg to 241.18 mmHg.\n"
     ]
    }
   ],
   "source": [
    "interval_SCL_has_CHD = mean_confidence_interval(col='scl', CHD=1)\n",
    "print(f'\\nWe are 95% confident that the population mean of systolic blood pressure (scl) for individuals NOT diagnosed with CHD')\n",
    "print(f'falls within the interval of {interval_SCL_has_CHD[0]:.2f} mmHg to {interval_SCL_has_CHD[-1]:.2f} mmHg.')"
   ]
  },
  {
   "cell_type": "markdown",
   "metadata": {},
   "source": [
    "### Part B"
   ]
  },
  {
   "cell_type": "markdown",
   "metadata": {},
   "source": [
    "$$H_0: \\mu_1 - \\mu_2 = 0$$\n",
    "$$H_A: \\lvert \\mu_1 - \\mu_2 \\rvert \\gt 0$$"
   ]
  },
  {
   "cell_type": "code",
   "execution_count": 46,
   "metadata": {},
   "outputs": [
    {
     "name": "stdout",
     "output_type": "stream",
     "text": [
      "Total recorded datapoints for scl (no CHD) (n): 3200\n",
      "Total recorded datapoints for scl (has CHD) (n): 1466\n",
      "Mean_1: 223.0009375\n",
      "Mean_2: 239.8431105047749\n",
      "Variance of dbp levels (no CHD): 1798.4323217216452\n",
      "Variance of dbp levels (has CHD): 2196.038167519518\n",
      "Test statistic (T): 11.734527156046639\n",
      "Degrees of Freedom: 2602\n",
      "P-value: 0.0\n",
      "P-value of 0.0 is less than 0.05. We reject the null hypothesis.\n"
     ]
    }
   ],
   "source": [
    "p_val_SCL_diff = mean_difference_hypothesis_test(col='scl')\n",
    "evaluate_p_value(p_val_SCL_diff)"
   ]
  },
  {
   "cell_type": "code",
   "execution_count": null,
   "metadata": {},
   "outputs": [],
   "source": []
  }
 ],
 "metadata": {
  "kernelspec": {
   "display_name": "Python 3",
   "language": "python",
   "name": "python3"
  },
  "language_info": {
   "codemirror_mode": {
    "name": "ipython",
    "version": 3
   },
   "file_extension": ".py",
   "mimetype": "text/x-python",
   "name": "python",
   "nbconvert_exporter": "python",
   "pygments_lexer": "ipython3",
   "version": "3.7.3"
  }
 },
 "nbformat": 4,
 "nbformat_minor": 4
}
